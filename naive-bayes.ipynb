{
 "cells": [
  {
   "cell_type": "code",
   "execution_count": 3,
   "id": "7bc140fc",
   "metadata": {
    "_cell_guid": "b1076dfc-b9ad-4769-8c92-a6c4dae69d19",
    "_uuid": "8f2839f25d086af736a60e9eeb907d3b93b6e0e5",
    "execution": {
     "iopub.execute_input": "2023-04-14T16:46:05.322975Z",
     "iopub.status.busy": "2023-04-14T16:46:05.322526Z",
     "iopub.status.idle": "2023-04-14T16:46:05.341258Z",
     "shell.execute_reply": "2023-04-14T16:46:05.339991Z",
     "shell.execute_reply.started": "2023-04-14T16:46:05.322936Z"
    },
    "papermill": {
     "duration": 0.064181,
     "end_time": "2022-04-19T01:28:38.361456",
     "exception": false,
     "start_time": "2022-04-19T01:28:38.297275",
     "status": "completed"
    },
    "tags": []
   },
   "outputs": [
    {
     "name": "stdout",
     "output_type": "stream",
     "text": [
      "/kaggle/input/rotten-tomatoes-reviews/rt_reviews.csv\n"
     ]
    }
   ],
   "source": [
    "# This Python 3 environment comes with many helpful analytics libraries installed\n",
    "# It is defined by the kaggle/python Docker image: https://github.com/kaggle/docker-python\n",
    "# For example, here's several helpful packages to load\n",
    "\n",
    "import numpy as np # linear algebra\n",
    "import pandas as pd \n",
    "import matplotlib.pyplot as plt\n",
    "\n",
    "# Input data files are available in the read-only \"../input/\" directory\n",
    "# For example, running this (by clicking run or pressing Shift+Enter) will list all files under the input directory\n",
    "\n",
    "import os\n",
    "for dirname, _, filenames in os.walk('/kaggle/input'):\n",
    "    for filename in filenames:\n",
    "        print(os.path.join(dirname, filename))\n",
    "\n",
    "# You can write up to 20GB to the current directory (/kaggle/working/) that gets preserved as output when you create a version using \"Save & Run All\" \n",
    "# You can also write temporary files to /kaggle/temp/, but they won't be saved outside of the current session"
   ]
  },
  {
   "cell_type": "markdown",
   "id": "8fa1a60e",
   "metadata": {
    "papermill": {
     "duration": 0.03688,
     "end_time": "2022-04-19T01:28:38.436224",
     "exception": false,
     "start_time": "2022-04-19T01:28:38.399344",
     "status": "completed"
    },
    "tags": []
   },
   "source": [
    "Read the data"
   ]
  },
  {
   "cell_type": "code",
   "execution_count": 7,
   "id": "a5eaf025",
   "metadata": {
    "execution": {
     "iopub.execute_input": "2023-04-14T16:48:39.127382Z",
     "iopub.status.busy": "2023-04-14T16:48:39.126851Z",
     "iopub.status.idle": "2023-04-14T16:48:40.245150Z",
     "shell.execute_reply": "2023-04-14T16:48:40.244023Z",
     "shell.execute_reply.started": "2023-04-14T16:48:39.127339Z"
    },
    "papermill": {
     "duration": 3.848779,
     "end_time": "2022-04-19T01:28:42.327219",
     "exception": false,
     "start_time": "2022-04-19T01:28:38.478440",
     "status": "completed"
    },
    "tags": []
   },
   "outputs": [
    {
     "data": {
      "text/html": [
       "<div>\n",
       "<style scoped>\n",
       "    .dataframe tbody tr th:only-of-type {\n",
       "        vertical-align: middle;\n",
       "    }\n",
       "\n",
       "    .dataframe tbody tr th {\n",
       "        vertical-align: top;\n",
       "    }\n",
       "\n",
       "    .dataframe thead th {\n",
       "        text-align: right;\n",
       "    }\n",
       "</style>\n",
       "<table border=\"1\" class=\"dataframe\">\n",
       "  <thead>\n",
       "    <tr style=\"text-align: right;\">\n",
       "      <th></th>\n",
       "      <th>Freshness</th>\n",
       "      <th>Review</th>\n",
       "    </tr>\n",
       "  </thead>\n",
       "  <tbody>\n",
       "    <tr>\n",
       "      <th>0</th>\n",
       "      <td>fresh</td>\n",
       "      <td>Manakamana doesn't answer any questions, yet ...</td>\n",
       "    </tr>\n",
       "    <tr>\n",
       "      <th>1</th>\n",
       "      <td>fresh</td>\n",
       "      <td>Wilfully offensive and powered by a chest-thu...</td>\n",
       "    </tr>\n",
       "    <tr>\n",
       "      <th>2</th>\n",
       "      <td>rotten</td>\n",
       "      <td>It would be difficult to imagine material mor...</td>\n",
       "    </tr>\n",
       "    <tr>\n",
       "      <th>3</th>\n",
       "      <td>rotten</td>\n",
       "      <td>Despite the gusto its star brings to the role...</td>\n",
       "    </tr>\n",
       "    <tr>\n",
       "      <th>4</th>\n",
       "      <td>rotten</td>\n",
       "      <td>If there was a good idea at the core of this ...</td>\n",
       "    </tr>\n",
       "  </tbody>\n",
       "</table>\n",
       "</div>"
      ],
      "text/plain": [
       "  Freshness                                             Review\n",
       "0     fresh   Manakamana doesn't answer any questions, yet ...\n",
       "1     fresh   Wilfully offensive and powered by a chest-thu...\n",
       "2    rotten   It would be difficult to imagine material mor...\n",
       "3    rotten   Despite the gusto its star brings to the role...\n",
       "4    rotten   If there was a good idea at the core of this ..."
      ]
     },
     "execution_count": 7,
     "metadata": {},
     "output_type": "execute_result"
    }
   ],
   "source": [
    "news_data=pd.read_csv('/kaggle/input/rotten-tomatoes-reviews/rt_reviews.csv',encoding='latin-1');\n",
    "news_data.head()"
   ]
  },
  {
   "cell_type": "code",
   "execution_count": 8,
   "id": "d257390c",
   "metadata": {
    "execution": {
     "iopub.execute_input": "2023-04-14T16:49:07.800249Z",
     "iopub.status.busy": "2023-04-14T16:49:07.799768Z",
     "iopub.status.idle": "2023-04-14T16:49:07.910887Z",
     "shell.execute_reply": "2023-04-14T16:49:07.909443Z",
     "shell.execute_reply.started": "2023-04-14T16:49:07.800209Z"
    },
    "papermill": {
     "duration": 0.201903,
     "end_time": "2022-04-19T01:28:42.566183",
     "exception": false,
     "start_time": "2022-04-19T01:28:42.364280",
     "status": "completed"
    },
    "tags": []
   },
   "outputs": [
    {
     "name": "stdout",
     "output_type": "stream",
     "text": [
      "<class 'pandas.core.frame.DataFrame'>\n",
      "RangeIndex: 480000 entries, 0 to 479999\n",
      "Data columns (total 2 columns):\n",
      " #   Column     Non-Null Count   Dtype \n",
      "---  ------     --------------   ----- \n",
      " 0   Freshness  480000 non-null  object\n",
      " 1   Review     480000 non-null  object\n",
      "dtypes: object(2)\n",
      "memory usage: 7.3+ MB\n"
     ]
    }
   ],
   "source": [
    "news_data.info()"
   ]
  },
  {
   "cell_type": "markdown",
   "id": "5aa08e8e",
   "metadata": {
    "papermill": {
     "duration": 0.037791,
     "end_time": "2022-04-19T01:28:42.642489",
     "exception": false,
     "start_time": "2022-04-19T01:28:42.604698",
     "status": "completed"
    },
    "tags": []
   },
   "source": [
    "### Concat \"headline\" and \"short_description\" and add a new column"
   ]
  },
  {
   "cell_type": "code",
   "execution_count": 9,
   "id": "36ac9a4f",
   "metadata": {
    "execution": {
     "iopub.execute_input": "2023-04-14T16:50:23.300510Z",
     "iopub.status.busy": "2023-04-14T16:50:23.299995Z",
     "iopub.status.idle": "2023-04-14T16:50:32.435136Z",
     "shell.execute_reply": "2023-04-14T16:50:32.433795Z",
     "shell.execute_reply.started": "2023-04-14T16:50:23.300469Z"
    },
    "papermill": {
     "duration": 9.87622,
     "end_time": "2022-04-19T01:28:52.556978",
     "exception": false,
     "start_time": "2022-04-19T01:28:42.680758",
     "status": "completed"
    },
    "tags": []
   },
   "outputs": [
    {
     "data": {
      "text/plain": [
       "'manakamana doesnt answer any questions yet makes its point nepal like the rest of our planet is a picturesque but far from peaceable kingdom'"
      ]
     },
     "execution_count": 9,
     "metadata": {},
     "output_type": "execute_result"
    }
   ],
   "source": [
    "/#news_data[\"Content\"] = news_data[\"headline\"] + \" \" + news_data[\"short_description\"]\n",
    "\n",
    "### All words to lower case to remove duplicates\n",
    "news_data[\"Review\"] = news_data[\"Review\"].str.lower()\n",
    "### Removing all punctuations\n",
    "import string\n",
    "news_data[\"Review\"] = news_data[\"Review\"].str.replace(f\"[{string.punctuation}]\", \"\", regex=True)\n",
    "\n",
    "### Removing unnecessary spaces\n",
    "news_data[\"Review\"] = news_data[\"Review\"].str.replace(\"(^\\s+|\\s+$)\", \"\", regex=True)\n",
    "news_data[\"Review\"] = news_data[\"Review\"].str.replace(\"\\s+\", \" \", regex=True)\n",
    "\n",
    "\n",
    "news_data[\"Review\"][0]"
   ]
  },
  {
   "cell_type": "markdown",
   "id": "21035d33",
   "metadata": {
    "papermill": {
     "duration": 0.038529,
     "end_time": "2022-04-19T01:28:52.630659",
     "exception": false,
     "start_time": "2022-04-19T01:28:52.592130",
     "status": "completed"
    },
    "tags": []
   },
   "source": [
    "### Split data into Train,Validate and Test"
   ]
  },
  {
   "cell_type": "code",
   "execution_count": 10,
   "id": "4f3e5741",
   "metadata": {
    "execution": {
     "iopub.execute_input": "2023-04-14T16:50:43.829699Z",
     "iopub.status.busy": "2023-04-14T16:50:43.829255Z",
     "iopub.status.idle": "2023-04-14T16:50:44.496737Z",
     "shell.execute_reply": "2023-04-14T16:50:44.495281Z",
     "shell.execute_reply.started": "2023-04-14T16:50:43.829646Z"
    },
    "papermill": {
     "duration": 1.726231,
     "end_time": "2022-04-19T01:28:54.394952",
     "exception": false,
     "start_time": "2022-04-19T01:28:52.668721",
     "status": "completed"
    },
    "tags": []
   },
   "outputs": [
    {
     "name": "stdout",
     "output_type": "stream",
     "text": [
      "Train  336000\n",
      "Test  144000\n"
     ]
    }
   ],
   "source": [
    "from sklearn.model_selection import train_test_split\n",
    "train, test = train_test_split(news_data, test_size=0.3, random_state=42)\n",
    "print(\"Train \", len(train.index))\n",
    "print(\"Test \", len(test.index))"
   ]
  },
  {
   "cell_type": "code",
   "execution_count": 11,
   "id": "3c92ed5a",
   "metadata": {
    "execution": {
     "iopub.execute_input": "2023-04-14T16:50:51.212500Z",
     "iopub.status.busy": "2023-04-14T16:50:51.211788Z",
     "iopub.status.idle": "2023-04-14T16:50:51.251345Z",
     "shell.execute_reply": "2023-04-14T16:50:51.249921Z",
     "shell.execute_reply.started": "2023-04-14T16:50:51.212435Z"
    },
    "papermill": {
     "duration": 0.090116,
     "end_time": "2022-04-19T01:28:54.522872",
     "exception": false,
     "start_time": "2022-04-19T01:28:54.432756",
     "status": "completed"
    },
    "tags": []
   },
   "outputs": [
    {
     "name": "stdout",
     "output_type": "stream",
     "text": [
      "Test  72000\n",
      "validate  72000\n"
     ]
    }
   ],
   "source": [
    "test, validate = train_test_split(test, test_size=0.5, random_state=42)\n",
    "print(\"Test \", len(test.index))\n",
    "print(\"validate \", len(validate.index))"
   ]
  },
  {
   "cell_type": "markdown",
   "id": "6deaffa9",
   "metadata": {
    "papermill": {
     "duration": 0.040919,
     "end_time": "2022-04-19T01:28:54.602471",
     "exception": false,
     "start_time": "2022-04-19T01:28:54.561552",
     "status": "completed"
    },
    "tags": []
   },
   "source": [
    "### Calculate Prior Probability for Categories"
   ]
  },
  {
   "cell_type": "code",
   "execution_count": 13,
   "id": "66eeac70",
   "metadata": {
    "execution": {
     "iopub.execute_input": "2023-04-14T16:52:03.283367Z",
     "iopub.status.busy": "2023-04-14T16:52:03.282824Z",
     "iopub.status.idle": "2023-04-14T16:52:03.321849Z",
     "shell.execute_reply": "2023-04-14T16:52:03.320317Z",
     "shell.execute_reply.started": "2023-04-14T16:52:03.283322Z"
    },
    "papermill": {
     "duration": 0.116988,
     "end_time": "2022-04-19T01:28:54.762247",
     "exception": false,
     "start_time": "2022-04-19T01:28:54.645259",
     "status": "completed"
    },
    "tags": []
   },
   "outputs": [
    {
     "data": {
      "text/html": [
       "<div>\n",
       "<style scoped>\n",
       "    .dataframe tbody tr th:only-of-type {\n",
       "        vertical-align: middle;\n",
       "    }\n",
       "\n",
       "    .dataframe tbody tr th {\n",
       "        vertical-align: top;\n",
       "    }\n",
       "\n",
       "    .dataframe thead th {\n",
       "        text-align: right;\n",
       "    }\n",
       "</style>\n",
       "<table border=\"1\" class=\"dataframe\">\n",
       "  <thead>\n",
       "    <tr style=\"text-align: right;\">\n",
       "      <th></th>\n",
       "      <th>fresh</th>\n",
       "      <th>rotten</th>\n",
       "    </tr>\n",
       "  </thead>\n",
       "  <tbody>\n",
       "    <tr>\n",
       "      <th>Freshness</th>\n",
       "      <td>0.500009</td>\n",
       "      <td>0.499991</td>\n",
       "    </tr>\n",
       "  </tbody>\n",
       "</table>\n",
       "</div>"
      ],
      "text/plain": [
       "              fresh    rotten\n",
       "Freshness  0.500009  0.499991"
      ]
     },
     "execution_count": 13,
     "metadata": {},
     "output_type": "execute_result"
    }
   ],
   "source": [
    "category_counts = train[\"Freshness\"].value_counts()\n",
    "category_counts_sum = np.sum(category_counts)\n",
    "\n",
    "### Calculating the Prior Probability for Categories\n",
    "pr_category_prior = pd.DataFrame(category_counts).T\n",
    "pr_category_prior = pr_category_prior/category_counts_sum\n",
    "pr_category_prior"
   ]
  },
  {
   "cell_type": "code",
   "execution_count": 15,
   "id": "36fe4343",
   "metadata": {
    "execution": {
     "iopub.execute_input": "2023-04-14T16:52:38.950756Z",
     "iopub.status.busy": "2023-04-14T16:52:38.950283Z",
     "iopub.status.idle": "2023-04-14T16:52:39.159180Z",
     "shell.execute_reply": "2023-04-14T16:52:39.158222Z",
     "shell.execute_reply.started": "2023-04-14T16:52:38.950716Z"
    },
    "papermill": {
     "duration": 0.592949,
     "end_time": "2022-04-19T01:28:55.395320",
     "exception": false,
     "start_time": "2022-04-19T01:28:54.802371",
     "status": "completed"
    },
    "tags": []
   },
   "outputs": [
    {
     "data": {
      "image/png": "[encoded data removed]",
      "text/plain": [
       "<Figure size 600x300 with 1 Axes>"
      ]
     },
     "metadata": {},
     "output_type": "display_data"
    }
   ],
   "source": [
    "plt.figure(figsize=(6,3))\n",
    "category_counts.plot(kind='bar');"
   ]
  },
  {
   "cell_type": "markdown",
   "id": "1d7a9586",
   "metadata": {
    "papermill": {
     "duration": 0.040534,
     "end_time": "2022-04-19T01:28:55.478287",
     "exception": false,
     "start_time": "2022-04-19T01:28:55.437753",
     "status": "completed"
    },
    "tags": []
   },
   "source": [
    "### Build a list of vocabulary"
   ]
  },
  {
   "cell_type": "code",
   "execution_count": 9,
   "id": "3486e2ef",
   "metadata": {
    "execution": {
     "iopub.execute_input": "2022-04-19T01:28:55.565134Z",
     "iopub.status.busy": "2022-04-19T01:28:55.564666Z",
     "iopub.status.idle": "2022-04-19T01:28:55.568523Z",
     "shell.execute_reply": "2022-04-19T01:28:55.567798Z"
    },
    "papermill": {
     "duration": 0.049986,
     "end_time": "2022-04-19T01:28:55.570690",
     "exception": false,
     "start_time": "2022-04-19T01:28:55.520704",
     "status": "completed"
    },
    "tags": []
   },
   "outputs": [],
   "source": [
    "### TO-DO: Remove STOP WORDS, i.e. words with very high occurance\n",
    "###        or the words commonly used in all categories"
   ]
  },
  {
   "cell_type": "code",
   "execution_count": 21,
   "id": "917f0b0e",
   "metadata": {
    "execution": {
     "iopub.execute_input": "2023-04-14T16:58:35.835355Z",
     "iopub.status.busy": "2023-04-14T16:58:35.834850Z",
     "iopub.status.idle": "2023-04-14T16:58:35.847157Z",
     "shell.execute_reply": "2023-04-14T16:58:35.845635Z",
     "shell.execute_reply.started": "2023-04-14T16:58:35.835314Z"
    },
    "papermill": {
     "duration": 0.058636,
     "end_time": "2022-04-19T01:28:55.675112",
     "exception": false,
     "start_time": "2022-04-19T01:28:55.616476",
     "status": "completed"
    },
    "tags": []
   },
   "outputs": [],
   "source": [
    "from tqdm import tqdm\n",
    "from collections import Counter\n",
    "\n",
    "def get_word_frequency(pd_df, \n",
    "                       vocab_list = None, \n",
    "                       category=\"all\", \n",
    "                       min_word_occur = 5, \n",
    "                      ):\n",
    "    \"\"\"\n",
    "    pd_df: [Required] Input dataframe\n",
    "    vocab_list: [Optional] [Required when category='all'] \n",
    "                List of words to calculate the frequency for\n",
    "    category: Default is for all categories\n",
    "    min_word_occur: Default is 5\n",
    "    \"\"\"\n",
    "    ### Selecting sentence of the category\n",
    "    if category!=\"all\":\n",
    "        pd_df = pd_df[pd_df[\"Freshness\"]==category]\n",
    "    \n",
    "    if vocab_list is None and category==\"all\":\n",
    "        pass\n",
    "    elif vocab_list is None:\n",
    "        Exception(\"Please provide vocab_list to continue!\")\n",
    "    \n",
    "    ### Creating the vocabulary\n",
    "    print(\"Creating the vocabulary...\")\n",
    "    vocab_all = []\n",
    "    for sentence in tqdm(pd_df[\"Review\"]):\n",
    "        vocab_all.append(sentence.split())\n",
    "    vocab_all = np.concatenate(vocab_all).flatten()\n",
    "    print(\"Total words in the sentences:\", len(vocab_all))\n",
    "    \n",
    "    ### Counting the words\n",
    "    Vocab_Dict = Counter(vocab_all)\n",
    "    if category==\"all\":\n",
    "        ### Limiting to words with frequency >= 5\n",
    "        Vocab_Dict = {k:v for k, v in Vocab_Dict.items() if Vocab_Dict[k] >= 5}\n",
    "    else:\n",
    "        ### Limiting to words from the given vocab_list\n",
    "        Vocab_Dict = {k:v for k, v in Vocab_Dict.items() if k in vocab_list}\n",
    "    vocab = list(Vocab_Dict.keys())\n",
    "    print(\"Length of Vocab:\", len(vocab))\n",
    "    \n",
    "    return Vocab_Dict, vocab"
   ]
  },
  {
   "cell_type": "code",
   "execution_count": 22,
   "id": "a013b937",
   "metadata": {
    "execution": {
     "iopub.execute_input": "2023-04-14T16:58:51.910669Z",
     "iopub.status.busy": "2023-04-14T16:58:51.910250Z",
     "iopub.status.idle": "2023-04-14T16:58:51.921620Z",
     "shell.execute_reply": "2023-04-14T16:58:51.919912Z",
     "shell.execute_reply.started": "2023-04-14T16:58:51.910633Z"
    },
    "papermill": {
     "duration": 0.056148,
     "end_time": "2022-04-19T01:28:55.774700",
     "exception": false,
     "start_time": "2022-04-19T01:28:55.718552",
     "status": "completed"
    },
    "tags": []
   },
   "outputs": [],
   "source": [
    "def get_word_frequency1(pd_df, \n",
    "                       vocab_list = None, \n",
    "                       category=\"all\", \n",
    "                       min_word_occur = 5, \n",
    "                      ):\n",
    "    \"\"\"\n",
    "    pd_df: [Required] Input dataframe\n",
    "    vocab_list: [Optional] [Required when category='all'] \n",
    "                List of words to calculate the frequency for\n",
    "    category: Default is for all categories\n",
    "    min_word_occur: Default is 5\n",
    "    \"\"\"\n",
    "    ### Selecting sentence of the category\n",
    "    if category!=\"all\":\n",
    "        pd_df = pd_df[pd_df[\"Freshness\"]==category]\n",
    "    \n",
    "    if vocab_list is None and category==\"all\":\n",
    "        pass\n",
    "    elif vocab_list is None:\n",
    "        Exception(\"Please provide vocab_list to continue!\")\n",
    "    \n",
    "    ### Creating the vocabulary\n",
    "    vocab_all = []\n",
    "    for sentence in tqdm(pd_df[\"Review\"]):\n",
    "        vocab_all.append(sentence.split())\n",
    "    vocab_all = np.concatenate(vocab_all).flatten()\n",
    "    \n",
    "    ### Counting the words\n",
    "    Vocab_Dict = Counter(vocab_all)\n",
    "    if category==\"all\":\n",
    "        ### Limiting to words with frequency >= 5\n",
    "        Vocab_Dict = {k:v for k, v in Vocab_Dict.items() if Vocab_Dict[k] >= 5}\n",
    "    else:\n",
    "        ### Limiting to words from the given vocab_list\n",
    "        Vocab_Dict = {k:v for k, v in Vocab_Dict.items() if k in vocab_list}\n",
    "    vocab = list(Vocab_Dict.keys())\n",
    "    \n",
    "    return Vocab_Dict, vocab"
   ]
  },
  {
   "cell_type": "code",
   "execution_count": 23,
   "id": "8e2c75cc",
   "metadata": {
    "execution": {
     "iopub.execute_input": "2023-04-14T16:58:59.785234Z",
     "iopub.status.busy": "2023-04-14T16:58:59.784815Z",
     "iopub.status.idle": "2023-04-14T16:59:18.339837Z",
     "shell.execute_reply": "2023-04-14T16:59:18.338737Z",
     "shell.execute_reply.started": "2023-04-14T16:58:59.785198Z"
    },
    "papermill": {
     "duration": 12.759452,
     "end_time": "2022-04-19T01:29:08.577917",
     "exception": false,
     "start_time": "2022-04-19T01:28:55.818465",
     "status": "completed"
    },
    "tags": []
   },
   "outputs": [
    {
     "name": "stdout",
     "output_type": "stream",
     "text": [
      "Creating the vocabulary...\n"
     ]
    },
    {
     "name": "stderr",
     "output_type": "stream",
     "text": [
      "100%|██████████| 336000/336000 [00:02<00:00, 158610.84it/s]\n"
     ]
    },
    {
     "name": "stdout",
     "output_type": "stream",
     "text": [
      "Total words in the sentences: 7285822\n",
      "Length of Vocab: 39036\n"
     ]
    }
   ],
   "source": [
    "Vocab_Dict, vocab = get_word_frequency(train)"
   ]
  },
  {
   "cell_type": "code",
   "execution_count": 24,
   "id": "bce62ade",
   "metadata": {
    "execution": {
     "iopub.execute_input": "2023-04-14T16:59:58.585095Z",
     "iopub.status.busy": "2023-04-14T16:59:58.584562Z",
     "iopub.status.idle": "2023-04-14T16:59:58.599757Z",
     "shell.execute_reply": "2023-04-14T16:59:58.598645Z",
     "shell.execute_reply.started": "2023-04-14T16:59:58.585051Z"
    },
    "papermill": {
     "duration": 0.070276,
     "end_time": "2022-04-19T01:29:08.698017",
     "exception": false,
     "start_time": "2022-04-19T01:29:08.627741",
     "status": "completed"
    },
    "tags": []
   },
   "outputs": [
    {
     "name": "stdout",
     "output_type": "stream",
     "text": [
      "[('does', 7488), ('one', 26317), ('really', 6837), ('have', 21878), ('to', 159157)]\n",
      "['does', 'one', 'really', 'have', 'to']\n"
     ]
    }
   ],
   "source": [
    "print(list(Vocab_Dict.items())[:5])\n",
    "print(vocab[:5])"
   ]
  },
  {
   "cell_type": "code",
   "execution_count": 25,
   "id": "865866d0",
   "metadata": {
    "execution": {
     "iopub.execute_input": "2023-04-14T17:00:33.810355Z",
     "iopub.status.busy": "2023-04-14T17:00:33.809234Z",
     "iopub.status.idle": "2023-04-14T17:00:33.828357Z",
     "shell.execute_reply": "2023-04-14T17:00:33.827136Z",
     "shell.execute_reply.started": "2023-04-14T17:00:33.810300Z"
    },
    "papermill": {
     "duration": 0.07324,
     "end_time": "2022-04-19T01:29:08.821872",
     "exception": false,
     "start_time": "2022-04-19T01:29:08.748632",
     "status": "completed"
    },
    "tags": []
   },
   "outputs": [
    {
     "data": {
      "text/html": [
       "<div>\n",
       "<style scoped>\n",
       "    .dataframe tbody tr th:only-of-type {\n",
       "        vertical-align: middle;\n",
       "    }\n",
       "\n",
       "    .dataframe tbody tr th {\n",
       "        vertical-align: top;\n",
       "    }\n",
       "\n",
       "    .dataframe thead th {\n",
       "        text-align: right;\n",
       "    }\n",
       "</style>\n",
       "<table border=\"1\" class=\"dataframe\">\n",
       "  <thead>\n",
       "    <tr style=\"text-align: right;\">\n",
       "      <th></th>\n",
       "      <th>vocab</th>\n",
       "    </tr>\n",
       "  </thead>\n",
       "  <tbody>\n",
       "    <tr>\n",
       "      <th>0</th>\n",
       "      <td>does</td>\n",
       "    </tr>\n",
       "    <tr>\n",
       "      <th>1</th>\n",
       "      <td>one</td>\n",
       "    </tr>\n",
       "    <tr>\n",
       "      <th>2</th>\n",
       "      <td>really</td>\n",
       "    </tr>\n",
       "    <tr>\n",
       "      <th>3</th>\n",
       "      <td>have</td>\n",
       "    </tr>\n",
       "    <tr>\n",
       "      <th>4</th>\n",
       "      <td>to</td>\n",
       "    </tr>\n",
       "  </tbody>\n",
       "</table>\n",
       "</div>"
      ],
      "text/plain": [
       "    vocab\n",
       "0    does\n",
       "1     one\n",
       "2  really\n",
       "3    have\n",
       "4      to"
      ]
     },
     "execution_count": 25,
     "metadata": {},
     "output_type": "execute_result"
    }
   ],
   "source": [
    "word_freq_df = pd.DataFrame(vocab, columns=[\"vocab\"])\n",
    "word_freq_df.head()"
   ]
  },
  {
   "cell_type": "markdown",
   "id": "7d7b8c6e",
   "metadata": {
    "papermill": {
     "duration": 0.049882,
     "end_time": "2022-04-19T01:29:08.923667",
     "exception": false,
     "start_time": "2022-04-19T01:29:08.873785",
     "status": "completed"
    },
    "tags": []
   },
   "source": [
    "### Building a word frequency dataframe on train data for each class"
   ]
  },
  {
   "cell_type": "code",
   "execution_count": 26,
   "id": "a4dde5db",
   "metadata": {
    "execution": {
     "iopub.execute_input": "2023-04-14T17:01:51.780866Z",
     "iopub.status.busy": "2023-04-14T17:01:51.780262Z",
     "iopub.status.idle": "2023-04-14T17:03:50.889568Z",
     "shell.execute_reply": "2023-04-14T17:03:50.888112Z",
     "shell.execute_reply.started": "2023-04-14T17:01:51.780821Z"
    },
    "papermill": {
     "duration": 121.002406,
     "end_time": "2022-04-19T01:31:09.974331",
     "exception": false,
     "start_time": "2022-04-19T01:29:08.971925",
     "status": "completed"
    },
    "tags": []
   },
   "outputs": [
    {
     "name": "stdout",
     "output_type": "stream",
     "text": [
      "====================\n",
      "Computing counts for fresh Freshness.\n",
      "Creating the vocabulary...\n"
     ]
    },
    {
     "name": "stderr",
     "output_type": "stream",
     "text": [
      "100%|██████████| 168003/168003 [00:01<00:00, 160403.32it/s]\n"
     ]
    },
    {
     "name": "stdout",
     "output_type": "stream",
     "text": [
      "Total words in the sentences: 3682549\n",
      "Length of Vocab: 37601\n",
      "====================\n",
      "Computing counts for rotten Freshness.\n",
      "Creating the vocabulary...\n"
     ]
    },
    {
     "name": "stderr",
     "output_type": "stream",
     "text": [
      "100%|██████████| 167997/167997 [00:00<00:00, 214339.20it/s]\n"
     ]
    },
    {
     "name": "stdout",
     "output_type": "stream",
     "text": [
      "Total words in the sentences: 3603273\n",
      "Length of Vocab: 37619\n"
     ]
    }
   ],
   "source": [
    "for category in category_counts.index:\n",
    "    print(\"====================\")\n",
    "    print(f\"Computing counts for {category} Freshness.\")\n",
    "    catg_vocab_dict, _ = get_word_frequency(train, \n",
    "                                            vocab_list = vocab, \n",
    "                                            category=category, \n",
    "                                           )\n",
    "    catg_vocab_df = pd.DataFrame(catg_vocab_dict.items(), columns=[\"vocab\", category])\n",
    "    word_freq_df = word_freq_df.merge(catg_vocab_df, on=\"vocab\", how=\"left\")\n",
    "    # ### Filling null values with 0s\n",
    "    # word_freq_df[category] = word_freq_df[category].fillna(0).astype(int)"
   ]
  },
  {
   "cell_type": "code",
   "execution_count": 27,
   "id": "981cb173",
   "metadata": {
    "execution": {
     "iopub.execute_input": "2023-04-14T17:04:01.253398Z",
     "iopub.status.busy": "2023-04-14T17:04:01.252971Z",
     "iopub.status.idle": "2023-04-14T17:04:01.267478Z",
     "shell.execute_reply": "2023-04-14T17:04:01.266043Z",
     "shell.execute_reply.started": "2023-04-14T17:04:01.253363Z"
    },
    "papermill": {
     "duration": 0.154653,
     "end_time": "2022-04-19T01:31:10.249403",
     "exception": false,
     "start_time": "2022-04-19T01:31:10.094750",
     "status": "completed"
    },
    "tags": []
   },
   "outputs": [
    {
     "data": {
      "text/html": [
       "<div>\n",
       "<style scoped>\n",
       "    .dataframe tbody tr th:only-of-type {\n",
       "        vertical-align: middle;\n",
       "    }\n",
       "\n",
       "    .dataframe tbody tr th {\n",
       "        vertical-align: top;\n",
       "    }\n",
       "\n",
       "    .dataframe thead th {\n",
       "        text-align: right;\n",
       "    }\n",
       "</style>\n",
       "<table border=\"1\" class=\"dataframe\">\n",
       "  <thead>\n",
       "    <tr style=\"text-align: right;\">\n",
       "      <th></th>\n",
       "      <th>vocab</th>\n",
       "      <th>fresh</th>\n",
       "      <th>rotten</th>\n",
       "    </tr>\n",
       "  </thead>\n",
       "  <tbody>\n",
       "    <tr>\n",
       "      <th>0</th>\n",
       "      <td>does</td>\n",
       "      <td>4000.0</td>\n",
       "      <td>3488.0</td>\n",
       "    </tr>\n",
       "    <tr>\n",
       "      <th>1</th>\n",
       "      <td>one</td>\n",
       "      <td>14406.0</td>\n",
       "      <td>11911.0</td>\n",
       "    </tr>\n",
       "    <tr>\n",
       "      <th>2</th>\n",
       "      <td>really</td>\n",
       "      <td>2701.0</td>\n",
       "      <td>4136.0</td>\n",
       "    </tr>\n",
       "    <tr>\n",
       "      <th>3</th>\n",
       "      <td>have</td>\n",
       "      <td>8996.0</td>\n",
       "      <td>12882.0</td>\n",
       "    </tr>\n",
       "    <tr>\n",
       "      <th>4</th>\n",
       "      <td>to</td>\n",
       "      <td>73877.0</td>\n",
       "      <td>85280.0</td>\n",
       "    </tr>\n",
       "  </tbody>\n",
       "</table>\n",
       "</div>"
      ],
      "text/plain": [
       "    vocab    fresh   rotten\n",
       "0    does   4000.0   3488.0\n",
       "1     one  14406.0  11911.0\n",
       "2  really   2701.0   4136.0\n",
       "3    have   8996.0  12882.0\n",
       "4      to  73877.0  85280.0"
      ]
     },
     "execution_count": 27,
     "metadata": {},
     "output_type": "execute_result"
    }
   ],
   "source": [
    "word_freq_df.head()"
   ]
  },
  {
   "cell_type": "code",
   "execution_count": 28,
   "id": "7fc3ff72",
   "metadata": {
    "execution": {
     "iopub.execute_input": "2023-04-14T17:05:23.021713Z",
     "iopub.status.busy": "2023-04-14T17:05:23.021173Z",
     "iopub.status.idle": "2023-04-14T17:05:23.045032Z",
     "shell.execute_reply": "2023-04-14T17:05:23.043759Z",
     "shell.execute_reply.started": "2023-04-14T17:05:23.021645Z"
    },
    "papermill": {
     "duration": 0.200357,
     "end_time": "2022-04-19T01:31:10.566993",
     "exception": false,
     "start_time": "2022-04-19T01:31:10.366636",
     "status": "completed"
    },
    "tags": []
   },
   "outputs": [
    {
     "data": {
      "text/html": [
       "<div>\n",
       "<style scoped>\n",
       "    .dataframe tbody tr th:only-of-type {\n",
       "        vertical-align: middle;\n",
       "    }\n",
       "\n",
       "    .dataframe tbody tr th {\n",
       "        vertical-align: top;\n",
       "    }\n",
       "\n",
       "    .dataframe thead th {\n",
       "        text-align: right;\n",
       "    }\n",
       "</style>\n",
       "<table border=\"1\" class=\"dataframe\">\n",
       "  <thead>\n",
       "    <tr style=\"text-align: right;\">\n",
       "      <th></th>\n",
       "      <th>fresh</th>\n",
       "      <th>rotten</th>\n",
       "    </tr>\n",
       "    <tr>\n",
       "      <th>vocab</th>\n",
       "      <th></th>\n",
       "      <th></th>\n",
       "    </tr>\n",
       "  </thead>\n",
       "  <tbody>\n",
       "    <tr>\n",
       "      <th>does</th>\n",
       "      <td>1.094319e-03</td>\n",
       "      <td>9.751846e-04</td>\n",
       "    </tr>\n",
       "    <tr>\n",
       "      <th>one</th>\n",
       "      <td>3.940478e-03</td>\n",
       "      <td>3.329435e-03</td>\n",
       "    </tr>\n",
       "    <tr>\n",
       "      <th>really</th>\n",
       "      <td>7.390277e-04</td>\n",
       "      <td>1.156302e-03</td>\n",
       "    </tr>\n",
       "    <tr>\n",
       "      <th>have</th>\n",
       "      <td>2.460782e-03</td>\n",
       "      <td>3.600832e-03</td>\n",
       "    </tr>\n",
       "    <tr>\n",
       "      <th>to</th>\n",
       "      <td>2.020647e-02</td>\n",
       "      <td>2.383626e-02</td>\n",
       "    </tr>\n",
       "    <tr>\n",
       "      <th>...</th>\n",
       "      <td>...</td>\n",
       "      <td>...</td>\n",
       "    </tr>\n",
       "    <tr>\n",
       "      <th>admissions</th>\n",
       "      <td>8.205341e-07</td>\n",
       "      <td>1.118010e-06</td>\n",
       "    </tr>\n",
       "    <tr>\n",
       "      <th>corrects</th>\n",
       "      <td>5.470228e-07</td>\n",
       "      <td>1.397513e-06</td>\n",
       "    </tr>\n",
       "    <tr>\n",
       "      <th>scenetoscene</th>\n",
       "      <td>8.205341e-07</td>\n",
       "      <td>1.118010e-06</td>\n",
       "    </tr>\n",
       "    <tr>\n",
       "      <th>rooneys</th>\n",
       "      <td>1.094046e-06</td>\n",
       "      <td>8.385079e-07</td>\n",
       "    </tr>\n",
       "    <tr>\n",
       "      <th>eyegoggling</th>\n",
       "      <td>1.641068e-06</td>\n",
       "      <td>2.795026e-07</td>\n",
       "    </tr>\n",
       "  </tbody>\n",
       "</table>\n",
       "<p>39036 rows × 2 columns</p>\n",
       "</div>"
      ],
      "text/plain": [
       "                     fresh        rotten\n",
       "vocab                                   \n",
       "does          1.094319e-03  9.751846e-04\n",
       "one           3.940478e-03  3.329435e-03\n",
       "really        7.390277e-04  1.156302e-03\n",
       "have          2.460782e-03  3.600832e-03\n",
       "to            2.020647e-02  2.383626e-02\n",
       "...                    ...           ...\n",
       "admissions    8.205341e-07  1.118010e-06\n",
       "corrects      5.470228e-07  1.397513e-06\n",
       "scenetoscene  8.205341e-07  1.118010e-06\n",
       "rooneys       1.094046e-06  8.385079e-07\n",
       "eyegoggling   1.641068e-06  2.795026e-07\n",
       "\n",
       "[39036 rows x 2 columns]"
      ]
     },
     "execution_count": 28,
     "metadata": {},
     "output_type": "execute_result"
    }
   ],
   "source": [
    "### Calculating the P(w|c), i.e. probability of word given a category\n",
    "smoothing = True\n",
    "if smoothing:\n",
    "    pr_word_c_category = word_freq_df.set_index(\"vocab\").fillna(0) + 1\n",
    "else:\n",
    "    pr_word_c_category = word_freq_df.set_index(\"vocab\")\n",
    "pr_word_c_category = pr_word_c_category.div(pr_word_c_category.sum(axis=0), axis=1)\n",
    "pr_word_c_category"
   ]
  },
  {
   "cell_type": "markdown",
   "id": "2fd681a2",
   "metadata": {
    "papermill": {
     "duration": 0.121647,
     "end_time": "2022-04-19T01:31:10.810171",
     "exception": false,
     "start_time": "2022-04-19T01:31:10.688524",
     "status": "completed"
    },
    "tags": []
   },
   "source": [
    "### Validate"
   ]
  },
  {
   "cell_type": "markdown",
   "id": "fac90175",
   "metadata": {
    "papermill": {
     "duration": 0.119848,
     "end_time": "2022-04-19T01:31:11.053441",
     "exception": false,
     "start_time": "2022-04-19T01:31:10.933593",
     "status": "completed"
    },
    "tags": []
   },
   "source": [
    "Five Fold Cross Validation"
   ]
  },
  {
   "cell_type": "code",
   "execution_count": 29,
   "id": "19107799",
   "metadata": {
    "execution": {
     "iopub.execute_input": "2023-04-14T17:11:55.648243Z",
     "iopub.status.busy": "2023-04-14T17:11:55.647605Z",
     "iopub.status.idle": "2023-04-14T19:17:10.360501Z",
     "shell.execute_reply": "2023-04-14T19:17:10.358415Z",
     "shell.execute_reply.started": "2023-04-14T17:11:55.648193Z"
    },
    "papermill": {
     "duration": 3392.112928,
     "end_time": "2022-04-19T02:27:43.285299",
     "exception": false,
     "start_time": "2022-04-19T01:31:11.172371",
     "status": "completed"
    },
    "tags": []
   },
   "outputs": [
    {
     "name": "stdout",
     "output_type": "stream",
     "text": [
      "67200\n",
      "Creating the vocabulary...\n"
     ]
    },
    {
     "name": "stderr",
     "output_type": "stream",
     "text": [
      "100%|██████████| 268800/268800 [00:01<00:00, 160420.58it/s]\n"
     ]
    },
    {
     "name": "stdout",
     "output_type": "stream",
     "text": [
      "Total words in the sentences: 5831045\n",
      "Length of Vocab: 35105\n"
     ]
    },
    {
     "name": "stderr",
     "output_type": "stream",
     "text": [
      "100%|██████████| 134471/134471 [00:00<00:00, 198646.92it/s]\n",
      "100%|██████████| 134329/134329 [00:00<00:00, 208061.45it/s]\n",
      "100%|██████████| 67200/67200 [21:36<00:00, 51.81it/s]\n"
     ]
    },
    {
     "name": "stdout",
     "output_type": "stream",
     "text": [
      "Fold 1 , accuracy= 0.7956845238095238\n",
      "268800\n",
      "Creating the vocabulary...\n"
     ]
    },
    {
     "name": "stderr",
     "output_type": "stream",
     "text": [
      "100%|██████████| 268800/268800 [00:01<00:00, 160586.05it/s]\n"
     ]
    },
    {
     "name": "stdout",
     "output_type": "stream",
     "text": [
      "Total words in the sentences: 5827372\n",
      "Length of Vocab: 35102\n"
     ]
    },
    {
     "name": "stderr",
     "output_type": "stream",
     "text": [
      "100%|██████████| 134414/134414 [00:00<00:00, 206938.15it/s]\n",
      "100%|██████████| 134386/134386 [00:00<00:00, 162071.94it/s]\n",
      "100%|██████████| 67200/67200 [23:50<00:00, 46.97it/s]\n"
     ]
    },
    {
     "name": "stdout",
     "output_type": "stream",
     "text": [
      "Fold 2 , accuracy= 0.7964285714285714\n",
      "268800\n",
      "Creating the vocabulary...\n"
     ]
    },
    {
     "name": "stderr",
     "output_type": "stream",
     "text": [
      "100%|██████████| 268800/268800 [00:01<00:00, 188700.60it/s]\n"
     ]
    },
    {
     "name": "stdout",
     "output_type": "stream",
     "text": [
      "Total words in the sentences: 5829747\n",
      "Length of Vocab: 35108\n"
     ]
    },
    {
     "name": "stderr",
     "output_type": "stream",
     "text": [
      "100%|██████████| 134492/134492 [00:00<00:00, 163805.61it/s]\n",
      "100%|██████████| 134308/134308 [00:00<00:00, 198654.38it/s]\n",
      "100%|██████████| 67200/67200 [23:04<00:00, 48.54it/s]\n"
     ]
    },
    {
     "name": "stdout",
     "output_type": "stream",
     "text": [
      "Fold 3 , accuracy= 0.7943154761904762\n",
      "268800\n",
      "Creating the vocabulary...\n"
     ]
    },
    {
     "name": "stderr",
     "output_type": "stream",
     "text": [
      "100%|██████████| 268800/268800 [00:01<00:00, 135560.42it/s]\n"
     ]
    },
    {
     "name": "stdout",
     "output_type": "stream",
     "text": [
      "Total words in the sentences: 5827434\n",
      "Length of Vocab: 35156\n"
     ]
    },
    {
     "name": "stderr",
     "output_type": "stream",
     "text": [
      "100%|██████████| 134563/134563 [00:00<00:00, 277624.23it/s]\n",
      "100%|██████████| 134237/134237 [00:00<00:00, 162118.28it/s]\n",
      "100%|██████████| 67200/67200 [22:30<00:00, 49.75it/s]\n"
     ]
    },
    {
     "name": "stdout",
     "output_type": "stream",
     "text": [
      "Fold 4 , accuracy= 0.7988690476190476\n",
      "268800\n",
      "Creating the vocabulary...\n"
     ]
    },
    {
     "name": "stderr",
     "output_type": "stream",
     "text": [
      "100%|██████████| 268800/268800 [00:01<00:00, 176029.41it/s]\n"
     ]
    },
    {
     "name": "stdout",
     "output_type": "stream",
     "text": [
      "Total words in the sentences: 5827690\n",
      "Length of Vocab: 35179\n"
     ]
    },
    {
     "name": "stderr",
     "output_type": "stream",
     "text": [
      "100%|██████████| 134516/134516 [00:00<00:00, 165301.36it/s]\n",
      "100%|██████████| 134284/134284 [00:00<00:00, 202422.31it/s]\n",
      "100%|██████████| 67200/67200 [23:28<00:00, 47.72it/s]\n"
     ]
    },
    {
     "name": "stdout",
     "output_type": "stream",
     "text": [
      "Fold 5 , accuracy= 0.7966071428571428\n"
     ]
    }
   ],
   "source": [
    "from sklearn.metrics import classification_report, confusion_matrix,accuracy_score\n",
    "\n",
    "fold_length=int(len(train)/5)\n",
    "print(fold_length)\n",
    "for i in range(5):\n",
    "    if i==0:\n",
    "        curr_fold_validate=train[0:fold_length]\n",
    "        curr_fold_train=train[~train.isin(curr_fold_validate)].dropna()\n",
    "        \n",
    "    else:\n",
    "        curr_fold_validate=train[i*fold_length:(i+1)*fold_length]\n",
    "        curr_fold_train=train[~train.isin(curr_fold_validate)].dropna()\n",
    "        print(len(curr_fold_train))\n",
    "    category_counts = curr_fold_train[\"Freshness\"].value_counts()\n",
    "    category_counts_sum = np.sum(category_counts)\n",
    "    \n",
    "    ### Calculating the Prior Probability for Categories\n",
    "    pr_category_prior = pd.DataFrame(category_counts).T\n",
    "    pr_category_prior = pr_category_prior/category_counts_sum\n",
    "    pr_category_prior\n",
    "    Vocab_Dict, vocab = get_word_frequency(curr_fold_train)\n",
    "    word_freq_df = pd.DataFrame(vocab, columns=[\"vocab\"])\n",
    "    for category in category_counts.index:\n",
    "        catg_vocab_dict, _ = get_word_frequency1(curr_fold_train, \n",
    "                                                vocab_list = vocab, \n",
    "                                                category=category, \n",
    "                                               )\n",
    "        catg_vocab_df = pd.DataFrame(catg_vocab_dict.items(), columns=[\"vocab\", category])\n",
    "        word_freq_df = word_freq_df.merge(catg_vocab_df, on=\"vocab\", how=\"left\")\n",
    "    smoothing = True\n",
    "    if smoothing:\n",
    "        pr_word_c_category = word_freq_df.set_index(\"vocab\").fillna(0) + 1\n",
    "    else:\n",
    "        pr_word_c_category = word_freq_df.set_index(\"vocab\")\n",
    "    pr_word_c_category = pr_word_c_category.div(pr_word_c_category.sum(axis=0), axis=1)\n",
    "    \n",
    "    Fold_category_predicted = []\n",
    "    for sentence in tqdm(curr_fold_validate[\"Review\"]):\n",
    "        valid_words = [word for word in sentence.split() if word in vocab]\n",
    "        valid_words_df = pd.DataFrame(valid_words, columns=[\"vocab\"])\n",
    "        valid_words_df = valid_words_df.merge(pr_word_c_category, on=\"vocab\", how=\"inner\").set_index(\"vocab\")\n",
    "        valid_pr_word_c_category = pd.DataFrame(valid_words_df.prod(axis=0), columns=[\"prob\"])\n",
    "        valid_pr_numer = valid_pr_word_c_category.join(pr_category_prior.T)\n",
    "        valid_pr_numer[\"final_prob\"] = valid_pr_numer[\"prob\"] * valid_pr_numer[\"Freshness\"]\n",
    "        Fold_category_predicted.append(valid_pr_numer[\"final_prob\"].idxmax())\n",
    "    accu=accuracy_score(curr_fold_validate[\"Freshness\"], Fold_category_predicted)\n",
    "    print(\"Fold\",i+1,\", accuracy=\",accu)"
   ]
  },
  {
   "cell_type": "code",
   "execution_count": 30,
   "id": "f5972e94",
   "metadata": {
    "execution": {
     "iopub.execute_input": "2023-04-14T19:17:24.454210Z",
     "iopub.status.busy": "2023-04-14T19:17:24.452504Z",
     "iopub.status.idle": "2023-04-14T19:17:24.469500Z",
     "shell.execute_reply": "2023-04-14T19:17:24.467945Z",
     "shell.execute_reply.started": "2023-04-14T19:17:24.454158Z"
    },
    "papermill": {
     "duration": 9.207185,
     "end_time": "2022-04-19T02:28:01.863831",
     "exception": false,
     "start_time": "2022-04-19T02:27:52.656646",
     "status": "completed"
    },
    "tags": []
   },
   "outputs": [
    {
     "data": {
      "text/html": [
       "<div>\n",
       "<style scoped>\n",
       "    .dataframe tbody tr th:only-of-type {\n",
       "        vertical-align: middle;\n",
       "    }\n",
       "\n",
       "    .dataframe tbody tr th {\n",
       "        vertical-align: top;\n",
       "    }\n",
       "\n",
       "    .dataframe thead th {\n",
       "        text-align: right;\n",
       "    }\n",
       "</style>\n",
       "<table border=\"1\" class=\"dataframe\">\n",
       "  <thead>\n",
       "    <tr style=\"text-align: right;\">\n",
       "      <th></th>\n",
       "      <th>Freshness</th>\n",
       "      <th>Review</th>\n",
       "    </tr>\n",
       "  </thead>\n",
       "  <tbody>\n",
       "    <tr>\n",
       "      <th>373046</th>\n",
       "      <td>fresh</td>\n",
       "      <td>if this film were a person youd want to give i...</td>\n",
       "    </tr>\n",
       "    <tr>\n",
       "      <th>452330</th>\n",
       "      <td>rotten</td>\n",
       "      <td>a soap opera for people who dont watch soap op...</td>\n",
       "    </tr>\n",
       "    <tr>\n",
       "      <th>3140</th>\n",
       "      <td>fresh</td>\n",
       "      <td>bounding onto screens with a heart far bigger ...</td>\n",
       "    </tr>\n",
       "    <tr>\n",
       "      <th>69269</th>\n",
       "      <td>rotten</td>\n",
       "      <td>haifaa almonsour loses out by attempting to wa...</td>\n",
       "    </tr>\n",
       "    <tr>\n",
       "      <th>289431</th>\n",
       "      <td>fresh</td>\n",
       "      <td>a revenge movie of demolishing beauty and sust...</td>\n",
       "    </tr>\n",
       "  </tbody>\n",
       "</table>\n",
       "</div>"
      ],
      "text/plain": [
       "       Freshness                                             Review\n",
       "373046     fresh  if this film were a person youd want to give i...\n",
       "452330    rotten  a soap opera for people who dont watch soap op...\n",
       "3140       fresh  bounding onto screens with a heart far bigger ...\n",
       "69269     rotten  haifaa almonsour loses out by attempting to wa...\n",
       "289431     fresh  a revenge movie of demolishing beauty and sust..."
      ]
     },
     "execution_count": 30,
     "metadata": {},
     "output_type": "execute_result"
    }
   ],
   "source": [
    "validate.head()"
   ]
  },
  {
   "cell_type": "code",
   "execution_count": 31,
   "id": "4cc9877d",
   "metadata": {
    "execution": {
     "iopub.execute_input": "2023-04-14T19:18:06.087196Z",
     "iopub.status.busy": "2023-04-14T19:18:06.086619Z",
     "iopub.status.idle": "2023-04-14T19:43:17.916377Z",
     "shell.execute_reply": "2023-04-14T19:43:17.914897Z",
     "shell.execute_reply.started": "2023-04-14T19:18:06.087154Z"
    },
    "papermill": {
     "duration": 606.672432,
     "end_time": "2022-04-19T02:38:17.687428",
     "exception": false,
     "start_time": "2022-04-19T02:28:11.014996",
     "status": "completed"
    },
    "tags": []
   },
   "outputs": [
    {
     "name": "stderr",
     "output_type": "stream",
     "text": [
      "100%|██████████| 72000/72000 [25:11<00:00, 47.62it/s]\n"
     ]
    }
   ],
   "source": [
    "valid_category_predicted = []\n",
    "for sentence in tqdm(validate[\"Review\"]):\n",
    "    valid_words = [word for word in sentence.split() if word in vocab]\n",
    "    valid_words_df = pd.DataFrame(valid_words, columns=[\"vocab\"])\n",
    "    valid_words_df = valid_words_df.merge(pr_word_c_category, on=\"vocab\", how=\"inner\").set_index(\"vocab\")\n",
    "    valid_pr_word_c_category = pd.DataFrame(valid_words_df.prod(axis=0), columns=[\"prob\"])\n",
    "    valid_pr_numer = valid_pr_word_c_category.join(pr_category_prior.T)\n",
    "    valid_pr_numer[\"final_prob\"] = valid_pr_numer[\"prob\"] * valid_pr_numer[\"Freshness\"]\n",
    "    valid_category_predicted.append(valid_pr_numer[\"final_prob\"].idxmax())"
   ]
  },
  {
   "cell_type": "code",
   "execution_count": 32,
   "id": "c5b7a772",
   "metadata": {
    "execution": {
     "iopub.execute_input": "2023-04-14T19:44:41.511838Z",
     "iopub.status.busy": "2023-04-14T19:44:41.511271Z",
     "iopub.status.idle": "2023-04-14T19:44:44.378238Z",
     "shell.execute_reply": "2023-04-14T19:44:44.376752Z",
     "shell.execute_reply.started": "2023-04-14T19:44:41.511789Z"
    },
    "papermill": {
     "duration": 13.009115,
     "end_time": "2022-04-19T02:38:41.748668",
     "exception": false,
     "start_time": "2022-04-19T02:38:28.739553",
     "status": "completed"
    },
    "tags": []
   },
   "outputs": [
    {
     "name": "stdout",
     "output_type": "stream",
     "text": [
      "              precision    recall  f1-score   support\n",
      "\n",
      "       fresh       0.78      0.81      0.79     34579\n",
      "      rotten       0.82      0.79      0.80     37421\n",
      "\n",
      "    accuracy                           0.80     72000\n",
      "   macro avg       0.80      0.80      0.80     72000\n",
      "weighted avg       0.80      0.80      0.80     72000\n",
      "\n"
     ]
    }
   ],
   "source": [
    "print(classification_report(valid_category_predicted, validate[\"Freshness\"]))"
   ]
  },
  {
   "cell_type": "code",
   "execution_count": 34,
   "id": "119ec48b",
   "metadata": {
    "execution": {
     "iopub.execute_input": "2023-04-14T19:45:10.919627Z",
     "iopub.status.busy": "2023-04-14T19:45:10.919209Z",
     "iopub.status.idle": "2023-04-14T19:45:11.324226Z",
     "shell.execute_reply": "2023-04-14T19:45:11.322596Z",
     "shell.execute_reply.started": "2023-04-14T19:45:10.919592Z"
    },
    "papermill": {
     "duration": 11.353526,
     "end_time": "2022-04-19T02:39:04.109432",
     "exception": false,
     "start_time": "2022-04-19T02:38:52.755906",
     "status": "completed"
    },
    "tags": []
   },
   "outputs": [
    {
     "data": {
      "text/plain": [
       "array([[28021,  6558],\n",
       "       [ 8010, 29411]])"
      ]
     },
     "execution_count": 34,
     "metadata": {},
     "output_type": "execute_result"
    }
   ],
   "source": [
    "confusion_matrix(valid_category_predicted, validate[\"Freshness\"])"
   ]
  },
  {
   "cell_type": "code",
   "execution_count": 36,
   "id": "b270fc2c",
   "metadata": {
    "execution": {
     "iopub.execute_input": "2023-04-14T19:45:37.014264Z",
     "iopub.status.busy": "2023-04-14T19:45:37.013727Z",
     "iopub.status.idle": "2023-04-14T19:45:37.941513Z",
     "shell.execute_reply": "2023-04-14T19:45:37.940327Z",
     "shell.execute_reply.started": "2023-04-14T19:45:37.014220Z"
    },
    "papermill": {
     "duration": 12.635682,
     "end_time": "2022-04-19T02:39:27.703568",
     "exception": false,
     "start_time": "2022-04-19T02:39:15.067886",
     "status": "completed"
    },
    "tags": []
   },
   "outputs": [
    {
     "data": {
      "text/plain": [
       "<AxesSubplot:>"
      ]
     },
     "execution_count": 36,
     "metadata": {},
     "output_type": "execute_result"
    },
    {
     "data": {
      "image/png": "[encoded data removed]",
      "text/plain": [
       "<Figure size 1000x800 with 2 Axes>"
      ]
     },
     "metadata": {},
     "output_type": "display_data"
    }
   ],
   "source": [
    "conf_matrix = confusion_matrix(valid_category_predicted, validate[\"Freshness\"], labels=category_counts.index)\n",
    "\n",
    "import seaborn as sns\n",
    "plt.figure(figsize = (10,8))\n",
    "sns.heatmap(pd.DataFrame(conf_matrix, \n",
    "                         index=category_counts.index, \n",
    "                         columns=category_counts.index), \n",
    "            cmap=\"viridis\")"
   ]
  },
  {
   "cell_type": "code",
   "execution_count": 37,
   "id": "a12c1d17",
   "metadata": {
    "execution": {
     "iopub.execute_input": "2023-04-14T19:45:51.052014Z",
     "iopub.status.busy": "2023-04-14T19:45:51.050620Z",
     "iopub.status.idle": "2023-04-14T19:45:51.353370Z",
     "shell.execute_reply": "2023-04-14T19:45:51.351568Z",
     "shell.execute_reply.started": "2023-04-14T19:45:51.051964Z"
    },
    "papermill": {
     "duration": 12.294247,
     "end_time": "2022-04-19T02:39:51.170683",
     "exception": false,
     "start_time": "2022-04-19T02:39:38.876436",
     "status": "completed"
    },
    "tags": []
   },
   "outputs": [
    {
     "data": {
      "text/plain": [
       "<AxesSubplot:>"
      ]
     },
     "execution_count": 37,
     "metadata": {},
     "output_type": "execute_result"
    },
    {
     "data": {
      "image/png": "[encoded data removed]",
      "text/plain": [
       "<Figure size 1000x800 with 2 Axes>"
      ]
     },
     "metadata": {},
     "output_type": "display_data"
    }
   ],
   "source": [
    "conf_mat_df = pd.DataFrame(conf_matrix, index=category_counts.index)\n",
    "conf_mat_df = conf_mat_df.div(conf_mat_df.sum(axis=1), axis=0)\n",
    "\n",
    "plt.figure(figsize = (10,8))\n",
    "sns.heatmap(conf_mat_df, cmap=\"viridis\")"
   ]
  },
  {
   "cell_type": "code",
   "execution_count": 38,
   "id": "54b16dc1",
   "metadata": {
    "execution": {
     "iopub.execute_input": "2023-04-14T19:46:06.055913Z",
     "iopub.status.busy": "2023-04-14T19:46:06.055458Z",
     "iopub.status.idle": "2023-04-14T19:46:06.281888Z",
     "shell.execute_reply": "2023-04-14T19:46:06.280667Z",
     "shell.execute_reply.started": "2023-04-14T19:46:06.055873Z"
    },
    "papermill": {
     "duration": 11.510448,
     "end_time": "2022-04-19T02:40:13.960426",
     "exception": false,
     "start_time": "2022-04-19T02:40:02.449978",
     "status": "completed"
    },
    "tags": []
   },
   "outputs": [
    {
     "data": {
      "text/plain": [
       "0.7976666666666666"
      ]
     },
     "execution_count": 38,
     "metadata": {},
     "output_type": "execute_result"
    }
   ],
   "source": [
    "accuracy_score(validate[\"Freshness\"], valid_category_predicted)"
   ]
  },
  {
   "cell_type": "markdown",
   "id": "e505ea8e",
   "metadata": {
    "papermill": {
     "duration": 11.252603,
     "end_time": "2022-04-19T02:40:36.577013",
     "exception": false,
     "start_time": "2022-04-19T02:40:25.324410",
     "status": "completed"
    },
    "tags": []
   },
   "source": [
    "Finding accuracy on test data"
   ]
  },
  {
   "cell_type": "code",
   "execution_count": 40,
   "id": "bcace366",
   "metadata": {
    "execution": {
     "iopub.execute_input": "2023-04-14T19:46:34.151674Z",
     "iopub.status.busy": "2023-04-14T19:46:34.150466Z",
     "iopub.status.idle": "2023-04-14T20:11:37.016084Z",
     "shell.execute_reply": "2023-04-14T20:11:37.014704Z",
     "shell.execute_reply.started": "2023-04-14T19:46:34.151631Z"
    },
    "papermill": {
     "duration": 614.41631,
     "end_time": "2022-04-19T02:51:02.012004",
     "exception": false,
     "start_time": "2022-04-19T02:40:47.595694",
     "status": "completed"
    },
    "tags": []
   },
   "outputs": [
    {
     "name": "stderr",
     "output_type": "stream",
     "text": [
      "100%|██████████| 72000/72000 [25:02<00:00, 47.91it/s]\n"
     ]
    }
   ],
   "source": [
    "test_category_predicted = []\n",
    "for sentence in tqdm(test[\"Review\"]):\n",
    "    valid_words = [word for word in sentence.split() if word in vocab]\n",
    "    valid_words_df = pd.DataFrame(valid_words, columns=[\"vocab\"])\n",
    "    valid_words_df = valid_words_df.merge(pr_word_c_category, on=\"vocab\", how=\"inner\").set_index(\"vocab\")\n",
    "    valid_pr_word_c_category = pd.DataFrame(valid_words_df.prod(axis=0), columns=[\"prob\"])\n",
    "    valid_pr_numer = valid_pr_word_c_category.join(pr_category_prior.T)\n",
    "    valid_pr_numer[\"final_prob\"] = valid_pr_numer[\"prob\"] * valid_pr_numer[\"Freshness\"]\n",
    "    test_category_predicted.append(valid_pr_numer[\"final_prob\"].idxmax())\n",
    "    "
   ]
  },
  {
   "cell_type": "code",
   "execution_count": 42,
   "id": "60e8a75b",
   "metadata": {
    "execution": {
     "iopub.execute_input": "2023-04-14T20:12:00.703009Z",
     "iopub.status.busy": "2023-04-14T20:12:00.702512Z",
     "iopub.status.idle": "2023-04-14T20:12:00.929433Z",
     "shell.execute_reply": "2023-04-14T20:12:00.928244Z",
     "shell.execute_reply.started": "2023-04-14T20:12:00.702964Z"
    },
    "papermill": {
     "duration": 13.122043,
     "end_time": "2022-04-19T02:51:28.171606",
     "exception": false,
     "start_time": "2022-04-19T02:51:15.049563",
     "status": "completed"
    },
    "tags": []
   },
   "outputs": [
    {
     "data": {
      "text/plain": [
       "0.7966388888888889"
      ]
     },
     "execution_count": 42,
     "metadata": {},
     "output_type": "execute_result"
    }
   ],
   "source": [
    "accuracy_score(test[\"Freshness\"], test_category_predicted)"
   ]
  }
 ],
 "metadata": {
  "kernelspec": {
   "display_name": "Python 3 (ipykernel)",
   "language": "python",
   "name": "python3"
  },
  "language_info": {
   "codemirror_mode": {
    "name": "ipython",
    "version": 3
   },
   "file_extension": ".py",
   "mimetype": "text/x-python",
   "name": "python",
   "nbconvert_exporter": "python",
   "pygments_lexer": "ipython3",
   "version": "3.9.13"
  },
  "papermill": {
   "default_parameters": {},
   "duration": 4996.607393,
   "end_time": "2022-04-19T02:51:42.249543",
   "environment_variables": {},
   "exception": null,
   "input_path": "__notebook__.ipynb",
   "output_path": "__notebook__.ipynb",
   "parameters": {},
   "start_time": "2022-04-19T01:28:25.642150",
   "version": "2.3.4"
  }
 },
 "nbformat": 4,
 "nbformat_minor": 5
}
